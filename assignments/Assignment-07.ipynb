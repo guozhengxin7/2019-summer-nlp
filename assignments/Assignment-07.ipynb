{
 "cells": [
  {
   "cell_type": "code",
   "execution_count": 1,
   "metadata": {},
   "outputs": [],
   "source": [
    "import os\n",
    "import math\n",
    "import pickle\n",
    "import multiprocessing\n",
    "import logging\n",
    "import pickle\n",
    "\n",
    "import numpy as np\n",
    "import pandas as pd\n",
    "import scipy.sparse as sp\n",
    "import pyltp\n",
    "import jieba\n",
    "from sklearn.feature_extraction.text import TfidfVectorizer"
   ]
  },
  {
   "cell_type": "code",
   "execution_count": null,
   "metadata": {},
   "outputs": [],
   "source": []
  },
  {
   "cell_type": "code",
   "execution_count": 1,
   "metadata": {},
   "outputs": [],
   "source": [
    "def parallelize_map(ary, func, num_worker=None, num_partitions=None, cpu_reserve=1):\n",
    "    \"\"\"多进程map\"\"\"\n",
    "    if not num_worker:\n",
    "        num_worker = max(1, multiprocessing.cpu_count() - cpu_reserve)\n",
    "    print(\"worker num = {}\".format(num_worker))\n",
    "    if not num_partitions:\n",
    "        num_partitions = num_worker\n",
    "    arys = np.array_split(ary, num_partitions)\n",
    "    del ary\n",
    "    pool = multiprocessing.Pool(num_worker)\n",
    "    ret = pool.map(func, arys)\n",
    "    pool.close()\n",
    "    pool.join()\n",
    "    return ret"
   ]
  },
  {
   "cell_type": "markdown",
   "metadata": {},
   "source": [
    "## 预处理语料"
   ]
  },
  {
   "cell_type": "code",
   "execution_count": 4,
   "metadata": {},
   "outputs": [],
   "source": [
    "def read_data():\n",
    "    return pd.read_csv(\"../res/news_chinese.csv\")[lambda x: x[\"content\"].notna()]"
   ]
  },
  {
   "cell_type": "code",
   "execution_count": 5,
   "metadata": {},
   "outputs": [],
   "source": [
    "data = read_data()"
   ]
  },
  {
   "cell_type": "code",
   "execution_count": 6,
   "metadata": {
    "scrolled": true
   },
   "outputs": [],
   "source": [
    "def process_raw_docs(raw_docs):\n",
    "    \"\"\"分词\"\"\"\n",
    "    print('process id:', os.getpid())\n",
    "    docs = []\n",
    "    for i, raw_doc in enumerate(raw_docs):\n",
    "        try:\n",
    "            doc_wods = []\n",
    "            for line in raw_doc.split(\"\\\\n\"):\n",
    "                if line:\n",
    "                    words = jieba.lcut(line.replace(\"\\u3000\", \"\"))\n",
    "                    if words:\n",
    "                        doc_wods.extend(words)\n",
    "            docs.append(doc_wods)\n",
    "        except Exception as e:\n",
    "            print(raw_doc)\n",
    "    return docs"
   ]
  },
  {
   "cell_type": "code",
   "execution_count": 6,
   "metadata": {},
   "outputs": [],
   "source": [
    "def preprocess_data():\n",
    "    data = pd.read_csv(\"res/news_chinese.csv\")[lambda x: x[\"content\"].notna()]\n",
    "\n",
    "    docs = []\n",
    "    ret = parallelize_map(data[\"content\"], process_raw_docs)\n",
    "    for i in ret:\n",
    "        docs.extend(i)\n",
    "    with open(\"corpus\", \"wb\") as f:\n",
    "        pickle.dump(docs, f)"
   ]
  },
  {
   "cell_type": "code",
   "execution_count": null,
   "metadata": {},
   "outputs": [],
   "source": []
  },
  {
   "cell_type": "code",
   "execution_count": null,
   "metadata": {},
   "outputs": [],
   "source": []
  },
  {
   "cell_type": "code",
   "execution_count": null,
   "metadata": {},
   "outputs": [],
   "source": []
  },
  {
   "cell_type": "markdown",
   "metadata": {},
   "source": [
    "## 训练模型"
   ]
  },
  {
   "cell_type": "code",
   "execution_count": 7,
   "metadata": {},
   "outputs": [],
   "source": [
    "def transform(x, model):\n",
    "    print('process id:', os.getpid())\n",
    "    return model.transform(x)\n",
    "\n",
    "def extracting_feature():\n",
    "    \"\"\"训练模型\"\"\"\n",
    "    # 加载处理后的语料\n",
    "    with open(\"res/news_chinese_corpus.dat\", \"rb\") as f:\n",
    "        corpus_dat = pickle.load(f)\n",
    "    stopwords = [x.strip() for x in open(\"res/stopwords.txt\", \"r\", encoding=\"utf8\")]\n",
    "    vectorizer = TfidfVectorizer(stop_words=stopwords, token_pattern=r\"(?u)\\b\\w+\\b\")\n",
    "    vectorizer.fit(corpus_dat)\n",
    "    with open(\"res/news_chinese_corpus_tfidf_fitted.model\", \"wb\") as f:\n",
    "        # vectorizer = pickle.load(f)`\n",
    "        pickle.dump(vectorizer, f)\n",
    "\n",
    "    f = functools.partial(transform, model=vectorizer)\n",
    "    ret = parallelize_map(corpus_dat, f, num_worker=4)\n",
    "    X = sp.vstack(ret, format='csr')\n",
    "    with open(\"res/X.dat\", \"wb\") as f:\n",
    "        pickle.dump(X, f)\n",
    "    y = (data[\"source\"] == \"新华社\").astype(int)\n",
    "    return X,y"
   ]
  },
  {
   "cell_type": "code",
   "execution_count": 8,
   "metadata": {
    "scrolled": true
   },
   "outputs": [],
   "source": [
    "with open(\"../res/X.dat\", \"rb\") as f:\n",
    "    X= pickle.load(f)"
   ]
  },
  {
   "cell_type": "code",
   "execution_count": 11,
   "metadata": {},
   "outputs": [],
   "source": [
    "y = (data[\"source\"] == \"新华社\").astype(int)"
   ]
  },
  {
   "cell_type": "code",
   "execution_count": 12,
   "metadata": {},
   "outputs": [
    {
     "data": {
      "text/plain": [
       "(87054, 246678)"
      ]
     },
     "execution_count": 12,
     "metadata": {},
     "output_type": "execute_result"
    }
   ],
   "source": [
    "X.shape"
   ]
  },
  {
   "cell_type": "code",
   "execution_count": 13,
   "metadata": {},
   "outputs": [
    {
     "data": {
      "text/plain": [
       "(87054,)"
      ]
     },
     "execution_count": 13,
     "metadata": {},
     "output_type": "execute_result"
    }
   ],
   "source": [
    "y.shape"
   ]
  },
  {
   "cell_type": "code",
   "execution_count": 18,
   "metadata": {},
   "outputs": [
    {
     "data": {
      "text/html": [
       "<div>\n",
       "<style scoped>\n",
       "    .dataframe tbody tr th:only-of-type {\n",
       "        vertical-align: middle;\n",
       "    }\n",
       "\n",
       "    .dataframe tbody tr th {\n",
       "        vertical-align: top;\n",
       "    }\n",
       "\n",
       "    .dataframe thead th {\n",
       "        text-align: right;\n",
       "    }\n",
       "</style>\n",
       "<table border=\"1\" class=\"dataframe\">\n",
       "  <thead>\n",
       "    <tr style=\"text-align: right;\">\n",
       "      <th></th>\n",
       "      <th>feature</th>\n",
       "      <th>source</th>\n",
       "    </tr>\n",
       "  </thead>\n",
       "  <tbody>\n",
       "    <tr>\n",
       "      <td>0</td>\n",
       "      <td>{\"type\":\"体育\",\"site\":\"新华社\",\"url\":\"http://home.x...</td>\n",
       "      <td>新华社</td>\n",
       "    </tr>\n",
       "    <tr>\n",
       "      <td>1</td>\n",
       "      <td>{\"type\":\"其它\",\"site\":\"新华社\",\"url\":\"http://home.x...</td>\n",
       "      <td>新华社</td>\n",
       "    </tr>\n",
       "    <tr>\n",
       "      <td>2</td>\n",
       "      <td>{\"type\":\"其它\",\"site\":\"新华社\",\"url\":\"http://home.x...</td>\n",
       "      <td>新华社</td>\n",
       "    </tr>\n",
       "    <tr>\n",
       "      <td>3</td>\n",
       "      <td>{\"type\":\"宏观经济\",\"site\":\"新华社\",\"url\":\"http://home...</td>\n",
       "      <td>新华社</td>\n",
       "    </tr>\n",
       "    <tr>\n",
       "      <td>4</td>\n",
       "      <td>{\"type\":\"冰球\",\"site\":\"新华社\",\"url\":\"http://home.x...</td>\n",
       "      <td>新华社</td>\n",
       "    </tr>\n",
       "    <tr>\n",
       "      <td>...</td>\n",
       "      <td>...</td>\n",
       "      <td>...</td>\n",
       "    </tr>\n",
       "    <tr>\n",
       "      <td>89606</td>\n",
       "      <td>{\"type\":\"新闻\",\"site\":\"网易热门\",\"commentNum\":\"978\",...</td>\n",
       "      <td>深圳大件事</td>\n",
       "    </tr>\n",
       "    <tr>\n",
       "      <td>89607</td>\n",
       "      <td>{\"type\":\"国际新闻\",\"site\":\"环球\",\"commentNum\":\"0\",\"j...</td>\n",
       "      <td>新华社</td>\n",
       "    </tr>\n",
       "    <tr>\n",
       "      <td>89608</td>\n",
       "      <td>{\"type\":\"科技\",\"site\":\"cnbeta\",\"commentNum\":\"18\"...</td>\n",
       "      <td>快科技@http://www.kkj.cn/</td>\n",
       "    </tr>\n",
       "    <tr>\n",
       "      <td>89609</td>\n",
       "      <td>{\"type\":\"科技\",\"site\":\"cnbeta\",\"commentNum\":\"15\"...</td>\n",
       "      <td>快科技@http://www.kkj.cn/</td>\n",
       "    </tr>\n",
       "    <tr>\n",
       "      <td>89610</td>\n",
       "      <td>{\"type\":\"科技\",\"site\":\"cnbeta\",\"commentNum\":\"37\"...</td>\n",
       "      <td>快科技@http://www.kkj.cn/</td>\n",
       "    </tr>\n",
       "  </tbody>\n",
       "</table>\n",
       "<p>87054 rows × 2 columns</p>\n",
       "</div>"
      ],
      "text/plain": [
       "                                                 feature  \\\n",
       "0      {\"type\":\"体育\",\"site\":\"新华社\",\"url\":\"http://home.x...   \n",
       "1      {\"type\":\"其它\",\"site\":\"新华社\",\"url\":\"http://home.x...   \n",
       "2      {\"type\":\"其它\",\"site\":\"新华社\",\"url\":\"http://home.x...   \n",
       "3      {\"type\":\"宏观经济\",\"site\":\"新华社\",\"url\":\"http://home...   \n",
       "4      {\"type\":\"冰球\",\"site\":\"新华社\",\"url\":\"http://home.x...   \n",
       "...                                                  ...   \n",
       "89606  {\"type\":\"新闻\",\"site\":\"网易热门\",\"commentNum\":\"978\",...   \n",
       "89607  {\"type\":\"国际新闻\",\"site\":\"环球\",\"commentNum\":\"0\",\"j...   \n",
       "89608  {\"type\":\"科技\",\"site\":\"cnbeta\",\"commentNum\":\"18\"...   \n",
       "89609  {\"type\":\"科技\",\"site\":\"cnbeta\",\"commentNum\":\"15\"...   \n",
       "89610  {\"type\":\"科技\",\"site\":\"cnbeta\",\"commentNum\":\"37\"...   \n",
       "\n",
       "                       source  \n",
       "0                         新华社  \n",
       "1                         新华社  \n",
       "2                         新华社  \n",
       "3                         新华社  \n",
       "4                         新华社  \n",
       "...                       ...  \n",
       "89606                   深圳大件事  \n",
       "89607                     新华社  \n",
       "89608  快科技@http://www.kkj.cn/  \n",
       "89609  快科技@http://www.kkj.cn/  \n",
       "89610  快科技@http://www.kkj.cn/  \n",
       "\n",
       "[87054 rows x 2 columns]"
      ]
     },
     "execution_count": 18,
     "metadata": {},
     "output_type": "execute_result"
    }
   ],
   "source": [
    "data[['feature', \"source\"]]"
   ]
  },
  {
   "cell_type": "code",
   "execution_count": 194,
   "metadata": {},
   "outputs": [
    {
     "data": {
      "text/plain": [
       "<87054x256250 sparse matrix of type '<class 'numpy.float64'>'\n",
       "\twith 7540031 stored elements in Compressed Sparse Row format>"
      ]
     },
     "execution_count": 194,
     "metadata": {},
     "output_type": "execute_result"
    }
   ],
   "source": []
  },
  {
   "cell_type": "code",
   "execution_count": 200,
   "metadata": {},
   "outputs": [
    {
     "data": {
      "text/plain": [
       "0        1\n",
       "1        1\n",
       "2        1\n",
       "3        1\n",
       "4        1\n",
       "        ..\n",
       "89606    0\n",
       "89607    1\n",
       "89608    0\n",
       "89609    0\n",
       "89610    0\n",
       "Name: source, Length: 87054, dtype: int32"
      ]
     },
     "execution_count": 200,
     "metadata": {},
     "output_type": "execute_result"
    }
   ],
   "source": []
  },
  {
   "cell_type": "code",
   "execution_count": null,
   "metadata": {},
   "outputs": [],
   "source": [
    "\n"
   ]
  },
  {
   "cell_type": "code",
   "execution_count": 80,
   "metadata": {},
   "outputs": [],
   "source": [
    "vectorizer = TfidfVectorizer()"
   ]
  },
  {
   "cell_type": "code",
   "execution_count": 81,
   "metadata": {},
   "outputs": [],
   "source": [
    "?vectorizer"
   ]
  },
  {
   "cell_type": "code",
   "execution_count": 204,
   "metadata": {},
   "outputs": [],
   "source": [
    "pool = multiprocessing.Pool(32)"
   ]
  },
  {
   "cell_type": "code",
   "execution_count": 206,
   "metadata": {},
   "outputs": [],
   "source": [
    "pool.terminate()"
   ]
  },
  {
   "cell_type": "code",
   "execution_count": 2,
   "metadata": {},
   "outputs": [],
   "source": [
    " x = np.arange(9.0)"
   ]
  },
  {
   "cell_type": "code",
   "execution_count": 5,
   "metadata": {},
   "outputs": [
    {
     "data": {
      "text/plain": [
       "[array([0., 1., 2.]), array([3., 4.]), array([5., 6.]), array([7., 8.])]"
      ]
     },
     "execution_count": 5,
     "metadata": {},
     "output_type": "execute_result"
    }
   ],
   "source": [
    "np.array_split(x, 4)"
   ]
  },
  {
   "cell_type": "code",
   "execution_count": 221,
   "metadata": {},
   "outputs": [
    {
     "name": "stdout",
     "output_type": "stream",
     "text": [
      "30\n"
     ]
    }
   ],
   "source": [
    "num_cores = multiprocessing.cpu_count()\n",
    "num_partitions = num_cores-2 # I like to leave some cores for other\n",
    "#processes\n",
    "print(num_partitions)\n",
    "\n",
    "def parallelize_dataframe(df, func):\n",
    "    a = np.array_split(df, num_partitions)\n",
    "    del df\n",
    "    pool = multiprocessing.Pool(num_cores)\n",
    "    #df = pd.concat(pool.map(func, [a,b,c,d,e]))\n",
    "    df = sp.vstack(pool.map(func, a), format='csr')\n",
    "    pool.close()\n",
    "    pool.join()\n",
    "    return df\n",
    " \n",
    "def test_func(data):\n",
    "    #print(\"Process working on: \",data)\n",
    "#     tfidf_matrix = tfidf_vectorizer.transform(data[\"text\"])\n",
    "    #return pd.DataFrame(tfidf_matrix.toarray())\n",
    "#     return tfidf_matrix\n",
    "    return vectorizer.fit_transform(data)"
   ]
  },
  {
   "cell_type": "code",
   "execution_count": null,
   "metadata": {},
   "outputs": [],
   "source": [
    "XX = vectorizer.fit_transform(corpus_dat)"
   ]
  },
  {
   "cell_type": "code",
   "execution_count": null,
   "metadata": {},
   "outputs": [],
   "source": [
    "%time XX = parallelize_dataframe(corpus_dat, test_func)"
   ]
  },
  {
   "cell_type": "code",
   "execution_count": null,
   "metadata": {},
   "outputs": [],
   "source": [
    "%time XXX = parallelize_dataframe(corpus_dat, test_func)"
   ]
  },
  {
   "cell_type": "code",
   "execution_count": 213,
   "metadata": {},
   "outputs": [
    {
     "data": {
      "text/plain": [
       "543589.5708239416"
      ]
     },
     "execution_count": 213,
     "metadata": {},
     "output_type": "execute_result"
    }
   ],
   "source": [
    "X.sum()"
   ]
  },
  {
   "cell_type": "code",
   "execution_count": null,
   "metadata": {},
   "outputs": [],
   "source": []
  }
 ],
 "metadata": {
  "kernelspec": {
   "display_name": "Python 3",
   "language": "python",
   "name": "python3"
  },
  "language_info": {
   "codemirror_mode": {
    "name": "ipython",
    "version": 3
   },
   "file_extension": ".py",
   "mimetype": "text/x-python",
   "name": "python",
   "nbconvert_exporter": "python",
   "pygments_lexer": "ipython3",
   "version": "3.7.4"
  }
 },
 "nbformat": 4,
 "nbformat_minor": 2
}
