{
 "cells": [
  {
   "cell_type": "code",
   "execution_count": 97,
   "metadata": {},
   "outputs": [],
   "source": [
    "import jieba\n",
    "import re\n",
    "import itertools\n",
    "import random"
   ]
  },
  {
   "cell_type": "markdown",
   "metadata": {},
   "source": [
    "# 解析模式"
   ]
  },
  {
   "cell_type": "code",
   "execution_count": 62,
   "metadata": {},
   "outputs": [],
   "source": [
    "def parse_pattern(pat):\n",
    "    \"\"\"\n",
    "    解析pattern\n",
    "    :param pat:\n",
    "    :return:\n",
    "    \"\"\"\n",
    "    plist = re.findall(\"(\\?\\*?\\w|\\w+)\\s*\", pat)\n",
    "    ret = []\n",
    "    for i in plist:\n",
    "        p = {\n",
    "            \"type\": None\n",
    "        }\n",
    "        if i.startswith(\"?\"):\n",
    "            if i.startswith(\"?*\"):\n",
    "                ret.append({\"type\": \"multiple_var\", \"name\": i[2:]})\n",
    "            else:\n",
    "                ret.append({\"type\": \"single_var\", \"name\": i[1:]})\n",
    "        else:\n",
    "            ret.extend([{\"type\": \"const\", \"value\": x} for x in jieba.lcut(i)])\n",
    "    return ret"
   ]
  },
  {
   "cell_type": "code",
   "execution_count": 63,
   "metadata": {},
   "outputs": [
    {
     "data": {
      "text/plain": [
       "[{'type': 'multiple_var', 'name': 'x'},\n",
       " {'type': 'const', 'value': 'hello'},\n",
       " {'type': 'multiple_var', 'name': 'y'}]"
      ]
     },
     "execution_count": 63,
     "metadata": {},
     "output_type": "execute_result"
    }
   ],
   "source": [
    "parse_pattern(\"?*x hello ?*y\")"
   ]
  },
  {
   "cell_type": "markdown",
   "metadata": {},
   "source": [
    "# 匹配句子"
   ]
  },
  {
   "cell_type": "code",
   "execution_count": 163,
   "metadata": {},
   "outputs": [],
   "source": [
    "def match_sentence(pat, saying):\n",
    "    \"\"\"\n",
    "    匹配模式和句子\n",
    "    :param pat:\n",
    "    :param saying:\n",
    "    :return:\n",
    "    \"\"\"\n",
    "    patter_list = parse_pattern(pat)\n",
    "    saying_list = [x for x in jieba.lcut(saying) if x.strip()]\n",
    "\n",
    "    def find_word(w, saying_list):\n",
    "        \"\"\"\n",
    "        查询词在list中的位置\n",
    "        :param w:\n",
    "        :param saying_list:\n",
    "        :return:\n",
    "        \"\"\"\n",
    "        for i, v in enumerate(saying_list):\n",
    "            if v != \"\" and w == v:\n",
    "                return i\n",
    "        return -1\n",
    "\n",
    "    # 匹配\n",
    "    saying_pos = 0      # 被匹配字符串的位置\n",
    "    ret_dic = {}\n",
    "    for i, p in enumerate(patter_list):\n",
    "        if saying_pos == len(saying_list):\n",
    "            # 句子已经消耗完了，模式还没匹配完\n",
    "            return False, ret_dic\n",
    "        if p[\"type\"] == \"multiple_var\":\n",
    "            if i == len(patter_list) - 1:\n",
    "                # 最后一个模式是变量， 直接返回剩余所有的即可\n",
    "                ret_dic[p[\"name\"]] = saying_list[saying_pos:]\n",
    "                saying_pos = len(saying_list)\n",
    "            else:\n",
    "                next_pat = patter_list[i+1]\n",
    "                assert next_pat['type'] == \"const\"      # 暂时不支持两个变量相邻\n",
    "                pos = find_word(next_pat['value'], saying_list[saying_pos:])\n",
    "                if pos == -1 or pos == 0:\n",
    "                    # 不匹配\n",
    "                    return False, ret_dic\n",
    "                else:\n",
    "                    ret_dic[p[\"name\"]] = saying_list[saying_pos:pos]\n",
    "                    saying_pos += pos\n",
    "        elif p[\"type\"] == \"single_var\":\n",
    "            ret_dic[p[\"name\"]] = saying_list[saying_pos]\n",
    "            saying_pos += 1\n",
    "        elif p[\"type\"] == \"const\":\n",
    "            if p[\"value\"] == saying_list[saying_pos]:\n",
    "                saying_pos += 1\n",
    "        else:\n",
    "            raise Exception(\"???\")\n",
    "\n",
    "    if saying_pos != len(saying_list):\n",
    "        # 模式走完了，被匹配的字符串没匹配完\n",
    "        return False, ret_dic\n",
    "    return True, ret_dic"
   ]
  },
  {
   "cell_type": "code",
   "execution_count": 123,
   "metadata": {},
   "outputs": [
    {
     "data": {
      "text/plain": [
       "(True, {'X': '3', 'Y': '2'})"
      ]
     },
     "execution_count": 123,
     "metadata": {},
     "output_type": "execute_result"
    }
   ],
   "source": [
    "match_sentence(\"?X greater than ?Y\", \"3 greater than 2\")"
   ]
  },
  {
   "cell_type": "code",
   "execution_count": 124,
   "metadata": {},
   "outputs": [
    {
     "data": {
      "text/plain": [
       "(True, {'P': ['My', 'dog', 'and', 'my', 'cat']})"
      ]
     },
     "execution_count": 124,
     "metadata": {},
     "output_type": "execute_result"
    }
   ],
   "source": [
    "match_sentence('?*P is very good', \"My dog and my cat is very good\")"
   ]
  },
  {
   "cell_type": "code",
   "execution_count": 125,
   "metadata": {},
   "outputs": [
    {
     "data": {
      "text/plain": [
       "(True, {'x': ['小明'], 'y': ['小红']})"
      ]
     },
     "execution_count": 125,
     "metadata": {},
     "output_type": "execute_result"
    }
   ],
   "source": [
    "match_sentence('?*x就像?*y', \"小明就像小红\")"
   ]
  },
  {
   "cell_type": "code",
   "execution_count": 148,
   "metadata": {},
   "outputs": [
    {
     "data": {
      "text/plain": [
       "(False, {})"
      ]
     },
     "execution_count": 148,
     "metadata": {},
     "output_type": "execute_result"
    }
   ],
   "source": [
    "match_sentence(\"'?*x你好?*y\", \"你好呀\")"
   ]
  },
  {
   "cell_type": "code",
   "execution_count": 149,
   "metadata": {},
   "outputs": [
    {
     "data": {
      "text/plain": [
       "(False, {'x': ['小冰']})"
      ]
     },
     "execution_count": 149,
     "metadata": {},
     "output_type": "execute_result"
    }
   ],
   "source": [
    "match_sentence(\"'?*x你好?*y\", \"小冰你好\")"
   ]
  },
  {
   "cell_type": "markdown",
   "metadata": {},
   "source": [
    "# 替换句子"
   ]
  },
  {
   "cell_type": "code",
   "execution_count": 176,
   "metadata": {},
   "outputs": [],
   "source": [
    "def subsitite(rule, parsed_rules):\n",
    "    \"\"\"\n",
    "    替换句子中的变量\n",
    "    :param rule:\n",
    "    :param parsed_rules:\n",
    "    :return:\n",
    "    \"\"\"\n",
    "    if not rule or not parsed_rules: return []\n",
    "    rule_list = parse_pattern(rule)\n",
    "    ret = []\n",
    "    for i in rule_list:\n",
    "        a = parsed_rules.get(i.get(\"name\"),i.get(\"value\"))\n",
    "        if isinstance(a, list):\n",
    "            ret.extend(a)\n",
    "        else:\n",
    "            ret.append(a)\n",
    "    cn_model = re.compile(u'[\\u4e00-\\u9fff]')\n",
    "    if cn_model.search(rule):\n",
    "        return \"\".join(ret)\n",
    "    else:\n",
    "        return \" \".join(ret)"
   ]
  },
  {
   "cell_type": "code",
   "execution_count": 177,
   "metadata": {
    "scrolled": true
   },
   "outputs": [
    {
     "data": {
      "text/plain": [
       "'What if you mean if you got a holiday'"
      ]
     },
     "execution_count": 177,
     "metadata": {},
     "output_type": "execute_result"
    }
   ],
   "source": [
    "succ, pat = match_sentence(\"I want ?X\", \"I want holiday\")\n",
    "subsitite(\"What if you mean if you got a ?X\", pat)"
   ]
  },
  {
   "cell_type": "code",
   "execution_count": 128,
   "metadata": {},
   "outputs": [],
   "source": [
    "rule_responses = {\n",
    "    '?*x hello ?*y': ['How do you do', 'Please state your problem'],\n",
    "    '?*x I want ?*y': ['what would it mean if you got ?y', 'Why do you want ?y', 'Suppose you got ?y soon'],\n",
    "    '?*x if ?*y': ['Do you really think its likely that ?y', 'Do you wish that ?y', 'What do you think about ?y', 'Really-- if ?y'],\n",
    "    '?*x no ?*y': ['why not?', 'You are being a negative', 'Are you saying \\'No\\' just to be negative?'],\n",
    "    '?*x I was ?*y': ['Were you really', 'Perhaps I already knew you were ?y', 'Why do you tell me you were ?y now?'],\n",
    "    '?*x I feel ?*y': ['Do you often feel ?y ?', 'What other feelings do you have?'],\n",
    "    '?*x你好?*y': ['你好呀', '请告诉我你的问题'],\n",
    "    '?*x我想?*y': ['你觉得?y有什么意义呢？', '为什么你想?y', '你可以想想你很快就可以?y了'],\n",
    "    '?*x我想要?*y': ['?x想问你，你觉得?y有什么意义呢?', '为什么你想?y', '?x觉得... 你可以想想你很快就可以有?y了', '你看?x像?y不', '我看你就像?y'],\n",
    "    '?*x喜欢?*y': ['喜欢?y的哪里？', '?y有什么好的呢？', '你想要?y吗？'],\n",
    "    '?*x讨厌?*y': ['?y怎么会那么讨厌呢?', '讨厌?y的哪里？', '?y有什么不好呢？', '你不想要?y吗？'],\n",
    "    '?*xAI?*y': ['你为什么要提AI的事情？', '你为什么觉得AI要解决你的问题？'],\n",
    "    '?*x机器人?*y': ['你为什么要提机器人的事情？', '你为什么觉得机器人要解决你的问题？'],\n",
    "    '?*x对不起?*y': ['不用道歉', '你为什么觉得你需要道歉呢?'],\n",
    "    '?*x我记得?*y': ['你经常会想起这个吗？', '除了?y你还会想起什么吗？', '你为什么和我提起?y'],\n",
    "    '?*x如果?*y': ['你真的觉得?y会发生吗？', '你希望?y吗?', '真的吗？如果?y的话', '关于?y你怎么想？'],\n",
    "    '?*x我?*z梦见?*y':['真的吗? --- ?y', '你在醒着的时候，以前想象过?y吗？', '你以前梦见过?y吗'],\n",
    "    '?*x妈妈?*y': ['你家里除了?y还有谁?', '嗯嗯，多说一点和你家里有关系的', '她对你影响很大吗？'],\n",
    "    '?*x爸爸?*y': ['你家里除了?y还有谁?', '嗯嗯，多说一点和你家里有关系的', '他对你影响很大吗？', '每当你想起你爸爸的时候， 你还会想起其他的吗?'],\n",
    "    '?*x我愿意?*y': ['我可以帮你?y吗？', '你可以解释一下，为什么想?y'],\n",
    "    '?*x我很难过，因为?*y': ['我听到你这么说， 也很难过', '?y不应该让你这么难过的'],\n",
    "    '?*x难过?*y': ['我听到你这么说， 也很难过',\n",
    "                 '不应该让你这么难过的，你觉得你拥有什么，就会不难过?',\n",
    "                 '你觉得事情变成什么样，你就不难过了?'],\n",
    "    '?*x就像?*y': ['你觉得?x和?y有什么相似性？', '?x和?y真的有关系吗？', '怎么说？'],\n",
    "    '?*x和?*y都?*z': ['你觉得?z有什么问题吗?', '?z会对你有什么影响呢?'],\n",
    "    '?*x和?*y一样?*z': ['你觉得?z有什么问题吗?', '?z会对你有什么影响呢?'],\n",
    "    '?*x我是?*y': ['真的吗？', '?x想告诉你，或许我早就知道你是?y', '你为什么现在才告诉我你是?y'],\n",
    "    '?*x我是?*y吗': ['如果你是?y会怎么样呢？', '你觉得你是?y吗', '如果你是?y，那一位着什么?'],\n",
    "    '?*x你是?*y吗':  ['你为什么会对我是不是?y感兴趣?', '那你希望我是?y吗', '你要是喜欢， 我就会是?y'],\n",
    "    '?*x你是?*y' : ['为什么你觉得我是?y'],\n",
    "    '?*x因为?*y' : ['?y是真正的原因吗？', '你觉得会有其他原因吗?'],\n",
    "    '?*x我不能?*y': ['你或许现在就能?*y', '如果你能?*y,会怎样呢？'],\n",
    "    '?*x我觉得?*y': ['你经常这样感觉吗？', '除了到这个，你还有什么其他的感觉吗？'],\n",
    "    '?*x我?*y你?*z': ['其实很有可能我们互相?y'],\n",
    "    '?*x你为什么不?*y': ['你自己为什么不?y', '你觉得我不会?y', '等我心情好了，我就?y'],\n",
    "    '?*x好的?*y': ['好的', '你是一个很正能量的人'],\n",
    "    '?*x嗯嗯?*y': ['好的', '你是一个很正能量的人'],\n",
    "    '?*x不嘛?*y': ['为什么不？', '你有一点负能量', '你说 不，是想表达不想的意思吗？'],\n",
    "    '?*x不要?*y': ['为什么不？', '你有一点负能量', '你说 不，是想表达不想的意思吗？'],\n",
    "    '?*x有些人?*y': ['具体是哪些人呢?'],\n",
    "    '?*x有的人?*y': ['具体是哪些人呢?'],\n",
    "    '?*x某些人?*y': ['具体是哪些人呢?'],\n",
    "    '?*x每个人?*y': ['我确定不是人人都是', '你能想到一点特殊情况吗？', '例如谁？', '你看到的其实只是一小部分人'],\n",
    "    '?*x所有人?*y': ['我确定不是人人都是', '你能想到一点特殊情况吗？', '例如谁？', '你看到的其实只是一小部分人'],\n",
    "    '?*x总是?*y': ['你能想到一些其他情况吗?', '例如什么时候?', '你具体是说哪一次？', '真的---总是吗？'],\n",
    "    '?*x一直?*y': ['你能想到一些其他情况吗?', '例如什么时候?', '你具体是说哪一次？', '真的---总是吗？'],\n",
    "    '?*x或许?*y': ['你看起来不太确定'],\n",
    "    '?*x可能?*y': ['你看起来不太确定'],\n",
    "    '?*x他们是?*y吗？': ['你觉得他们可能不是?y？'],\n",
    "    '?*x': ['很有趣', '请继续', '我不太确定我很理解你说的, 能稍微详细解释一下吗?']\n",
    "}"
   ]
  },
  {
   "cell_type": "code",
   "execution_count": 150,
   "metadata": {},
   "outputs": [],
   "source": [
    "def get_response(saying, response_rules):\n",
    "    \"\"\"\n",
    "    根据规则做出回答\n",
    "    :param saying:\n",
    "    :param response_rules:\n",
    "    :return:\n",
    "    \"\"\"\n",
    "    for k, v in response_rules.items():\n",
    "        succ, pat = match_sentence(k, saying)\n",
    "        if succ:\n",
    "            return subsitite(random.choice(v), pat)\n",
    "    return \"不好意思，我还没理解你说的是什么意思。\""
   ]
  },
  {
   "cell_type": "code",
   "execution_count": 175,
   "metadata": {},
   "outputs": [
    {
     "data": {
      "text/plain": [
       "['1', 'a', 'b', ['c', 'd']]"
      ]
     },
     "execution_count": 175,
     "metadata": {},
     "output_type": "execute_result"
    }
   ],
   "source": [
    "a = [\"1\"]\n",
    "a.extend([\"a\",\"b\",[\"c\",\"d\"]])\n",
    "a"
   ]
  },
  {
   "cell_type": "code",
   "execution_count": 151,
   "metadata": {},
   "outputs": [
    {
     "data": {
      "text/plain": [
       "'很有趣'"
      ]
     },
     "execution_count": 151,
     "metadata": {},
     "output_type": "execute_result"
    }
   ],
   "source": [
    "get_response(\"你好呀\", rule_responses)"
   ]
  },
  {
   "cell_type": "code",
   "execution_count": 152,
   "metadata": {},
   "outputs": [
    {
     "data": {
      "text/plain": [
       "'我不太确定我很理解你说的能稍微详细解释一下吗'"
      ]
     },
     "execution_count": 152,
     "metadata": {},
     "output_type": "execute_result"
    }
   ],
   "source": [
    "get_response(\"你好呀小冰\", rule_responses)"
   ]
  },
  {
   "cell_type": "code",
   "execution_count": 153,
   "metadata": {},
   "outputs": [
    {
     "data": {
      "text/plain": [
       "'很有趣'"
      ]
     },
     "execution_count": 153,
     "metadata": {},
     "output_type": "execute_result"
    }
   ],
   "source": [
    "get_response(\"你好小冰\", rule_responses)"
   ]
  },
  {
   "cell_type": "code",
   "execution_count": 154,
   "metadata": {},
   "outputs": [
    {
     "data": {
      "text/plain": [
       "'很有趣'"
      ]
     },
     "execution_count": 154,
     "metadata": {},
     "output_type": "execute_result"
    }
   ],
   "source": [
    "get_response(\"小冰你好\", rule_responses)"
   ]
  },
  {
   "cell_type": "code",
   "execution_count": 160,
   "metadata": {},
   "outputs": [
    {
     "data": {
      "text/plain": [
       "'你好呀'"
      ]
     },
     "execution_count": 160,
     "metadata": {},
     "output_type": "execute_result"
    }
   ],
   "source": [
    "get_response(\"小冰你好我想和你聊聊\", rule_responses)"
   ]
  },
  {
   "cell_type": "code",
   "execution_count": 186,
   "metadata": {},
   "outputs": [
    {
     "data": {
      "text/plain": [
       "'上班有什么不好呢'"
      ]
     },
     "execution_count": 186,
     "metadata": {},
     "output_type": "execute_result"
    }
   ],
   "source": [
    "get_response(\"我很讨厌上班\", rule_responses)"
   ]
  },
  {
   "cell_type": "markdown",
   "metadata": {},
   "source": [
    "# 问题\n",
    "## 1. 这样的程序有什么优点？有什么缺点？你有什么可以改进的方法吗？\n",
    "  \n",
    "  优点就是程序非常简单，缺点也是非常简单，直接根据模板做出回答，句法稍微变化，程序就不能识别了\n",
    "\n",
    "  另外匹配的效率可能有点低，把模式直接定义为正则表达式估计效率会提高一点,而且语法非常方便，比如中间允许空格，允许0次或多次匹配等，但是可能会难以维护\n",
    "\n",
    "## 2. 什么是数据驱动？数据驱动在这个程序里如何体现？\n",
    "  \n",
    "  数据驱动是指问题的解决方案是由数据决定的，算法不变，因为数据的变化会驱动算法产生新的具体解法或方案的实例。例如这里，我们的解析模式以及匹配语句等代码都不用变，定义新的模式即可支持新的对话。\n",
    "\n",
    "## 3. 数据驱动与 AI 的关系是什么？\n",
    "\n",
    " AI也是解决问题，由数据来产生具体解决方案的实例。比如分类问题，算法不变，由数据来拟合出具体的方程的参数，产生一个解。\n",
    "\n",
    "\n"
   ]
  },
  {
   "cell_type": "code",
   "execution_count": null,
   "metadata": {},
   "outputs": [],
   "source": [
    "\n"
   ]
  },
  {
   "cell_type": "code",
   "execution_count": null,
   "metadata": {},
   "outputs": [],
   "source": []
  }
 ],
 "metadata": {
  "kernelspec": {
   "display_name": "Python 3",
   "language": "python",
   "name": "python3"
  },
  "language_info": {
   "codemirror_mode": {
    "name": "ipython",
    "version": 3
   },
   "file_extension": ".py",
   "mimetype": "text/x-python",
   "name": "python",
   "nbconvert_exporter": "python",
   "pygments_lexer": "ipython3",
   "version": "3.7.3"
  }
 },
 "nbformat": 4,
 "nbformat_minor": 2
}
